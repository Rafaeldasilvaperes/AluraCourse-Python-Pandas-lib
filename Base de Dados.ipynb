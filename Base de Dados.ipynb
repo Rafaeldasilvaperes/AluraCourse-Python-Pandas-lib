{
 "cells": [
  {
   "cell_type": "markdown",
   "metadata": {},
   "source": [
    "# Relatório de Análise I"
   ]
  },
  {
   "cell_type": "markdown",
   "metadata": {},
   "source": [
    "## Importando a Base de Dados"
   ]
  },
  {
   "cell_type": "code",
   "execution_count": null,
   "metadata": {},
   "outputs": [
    {
     "ename": "",
     "evalue": "",
     "output_type": "error",
     "traceback": [
      "\u001b[1;31mA execução de células com \"Python 3.10.1 64-bit\" requer o pacote ipykernel.\n",
      "\u001b[1;31mExecute o seguinte comando para instalar \"ipykernel\" no ambiente do Python. \n",
      "\u001b[1;31mComando: \"c:/Users/rafael/AppData/Local/Programs/Python/Python310/python.exe -m pip install ipykernel -U --user --force-reinstall\""
     ]
    }
   ],
   "source": [
    "import pandas as pd"
   ]
  },
  {
   "cell_type": "code",
   "execution_count": null,
   "metadata": {
    "scrolled": true
   },
   "outputs": [
    {
     "ename": "",
     "evalue": "",
     "output_type": "error",
     "traceback": [
      "\u001b[1;31mA execução de células com \"Python 3.10.1 64-bit\" requer o pacote ipykernel.\n",
      "\u001b[1;31mExecute o seguinte comando para instalar \"ipykernel\" no ambiente do Python. \n",
      "\u001b[1;31mComando: \"c:/Users/rafael/AppData/Local/Programs/Python/Python310/python.exe -m pip install ipykernel -U --user --force-reinstall\""
     ]
    }
   ],
   "source": [
    "# importando\n",
    "pd.read_csv('dados/aluguel.csv', sep = ';')"
   ]
  },
  {
   "cell_type": "code",
   "execution_count": null,
   "metadata": {},
   "outputs": [
    {
     "ename": "",
     "evalue": "",
     "output_type": "error",
     "traceback": [
      "\u001b[1;31mA execução de células com \"Python 3.10.1 64-bit\" requer o pacote ipykernel.\n",
      "\u001b[1;31mExecute o seguinte comando para instalar \"ipykernel\" no ambiente do Python. \n",
      "\u001b[1;31mComando: \"c:/Users/rafael/AppData/Local/Programs/Python/Python310/python.exe -m pip install ipykernel -U --user --force-reinstall\""
     ]
    }
   ],
   "source": [
    "dados = pd.read_csv('dados/aluguel.csv', sep = ';')"
   ]
  },
  {
   "cell_type": "code",
   "execution_count": null,
   "metadata": {
    "scrolled": true
   },
   "outputs": [
    {
     "ename": "",
     "evalue": "",
     "output_type": "error",
     "traceback": [
      "\u001b[1;31mA execução de células com \"Python 3.10.1 64-bit\" requer o pacote ipykernel.\n",
      "\u001b[1;31mExecute o seguinte comando para instalar \"ipykernel\" no ambiente do Python. \n",
      "\u001b[1;31mComando: \"c:/Users/rafael/AppData/Local/Programs/Python/Python310/python.exe -m pip install ipykernel -U --user --force-reinstall\""
     ]
    }
   ],
   "source": [
    "dados"
   ]
  },
  {
   "cell_type": "code",
   "execution_count": null,
   "metadata": {},
   "outputs": [
    {
     "ename": "",
     "evalue": "",
     "output_type": "error",
     "traceback": [
      "\u001b[1;31mA execução de células com \"Python 3.10.1 64-bit\" requer o pacote ipykernel.\n",
      "\u001b[1;31mExecute o seguinte comando para instalar \"ipykernel\" no ambiente do Python. \n",
      "\u001b[1;31mComando: \"c:/Users/rafael/AppData/Local/Programs/Python/Python310/python.exe -m pip install ipykernel -U --user --force-reinstall\""
     ]
    }
   ],
   "source": [
    "type(dados)"
   ]
  },
  {
   "cell_type": "code",
   "execution_count": null,
   "metadata": {},
   "outputs": [
    {
     "ename": "",
     "evalue": "",
     "output_type": "error",
     "traceback": [
      "\u001b[1;31mA execução de células com \"Python 3.10.1 64-bit\" requer o pacote ipykernel.\n",
      "\u001b[1;31mExecute o seguinte comando para instalar \"ipykernel\" no ambiente do Python. \n",
      "\u001b[1;31mComando: \"c:/Users/rafael/AppData/Local/Programs/Python/Python310/python.exe -m pip install ipykernel -U --user --force-reinstall\""
     ]
    }
   ],
   "source": [
    "dados.info()"
   ]
  },
  {
   "cell_type": "code",
   "execution_count": null,
   "metadata": {},
   "outputs": [
    {
     "ename": "",
     "evalue": "",
     "output_type": "error",
     "traceback": [
      "\u001b[1;31mA execução de células com \"Python 3.10.1 64-bit\" requer o pacote ipykernel.\n",
      "\u001b[1;31mExecute o seguinte comando para instalar \"ipykernel\" no ambiente do Python. \n",
      "\u001b[1;31mComando: \"c:/Users/rafael/AppData/Local/Programs/Python/Python310/python.exe -m pip install ipykernel -U --user --force-reinstall\""
     ]
    }
   ],
   "source": [
    "dados.head(10)"
   ]
  },
  {
   "cell_type": "markdown",
   "metadata": {},
   "source": [
    "## Informações Gerais sobre a Base de Dados"
   ]
  },
  {
   "cell_type": "code",
   "execution_count": null,
   "metadata": {},
   "outputs": [
    {
     "ename": "",
     "evalue": "",
     "output_type": "error",
     "traceback": [
      "\u001b[1;31mA execução de células com \"Python 3.10.1 64-bit\" requer o pacote ipykernel.\n",
      "\u001b[1;31mExecute o seguinte comando para instalar \"ipykernel\" no ambiente do Python. \n",
      "\u001b[1;31mComando: \"c:/Users/rafael/AppData/Local/Programs/Python/Python310/python.exe -m pip install ipykernel -U --user --force-reinstall\""
     ]
    }
   ],
   "source": [
    "dados.dtypes"
   ]
  },
  {
   "cell_type": "code",
   "execution_count": null,
   "metadata": {},
   "outputs": [
    {
     "ename": "",
     "evalue": "",
     "output_type": "error",
     "traceback": [
      "\u001b[1;31mA execução de células com \"Python 3.10.1 64-bit\" requer o pacote ipykernel.\n",
      "\u001b[1;31mExecute o seguinte comando para instalar \"ipykernel\" no ambiente do Python. \n",
      "\u001b[1;31mComando: \"c:/Users/rafael/AppData/Local/Programs/Python/Python310/python.exe -m pip install ipykernel -U --user --force-reinstall\""
     ]
    }
   ],
   "source": [
    "tipos_de_dados = pd.DataFrame(dados.dtypes, columns = ['Tipos de Dados'])"
   ]
  },
  {
   "cell_type": "code",
   "execution_count": null,
   "metadata": {},
   "outputs": [
    {
     "ename": "",
     "evalue": "",
     "output_type": "error",
     "traceback": [
      "\u001b[1;31mA execução de células com \"Python 3.10.1 64-bit\" requer o pacote ipykernel.\n",
      "\u001b[1;31mExecute o seguinte comando para instalar \"ipykernel\" no ambiente do Python. \n",
      "\u001b[1;31mComando: \"c:/Users/rafael/AppData/Local/Programs/Python/Python310/python.exe -m pip install ipykernel -U --user --force-reinstall\""
     ]
    }
   ],
   "source": [
    "tipos_de_dados.columns.name = 'Variáveis'"
   ]
  },
  {
   "cell_type": "code",
   "execution_count": null,
   "metadata": {},
   "outputs": [
    {
     "ename": "",
     "evalue": "",
     "output_type": "error",
     "traceback": [
      "\u001b[1;31mA execução de células com \"Python 3.10.1 64-bit\" requer o pacote ipykernel.\n",
      "\u001b[1;31mExecute o seguinte comando para instalar \"ipykernel\" no ambiente do Python. \n",
      "\u001b[1;31mComando: \"c:/Users/rafael/AppData/Local/Programs/Python/Python310/python.exe -m pip install ipykernel -U --user --force-reinstall\""
     ]
    }
   ],
   "source": [
    "tipos_de_dados"
   ]
  },
  {
   "cell_type": "code",
   "execution_count": null,
   "metadata": {},
   "outputs": [
    {
     "ename": "",
     "evalue": "",
     "output_type": "error",
     "traceback": [
      "\u001b[1;31mA execução de células com \"Python 3.10.1 64-bit\" requer o pacote ipykernel.\n",
      "\u001b[1;31mExecute o seguinte comando para instalar \"ipykernel\" no ambiente do Python. \n",
      "\u001b[1;31mComando: \"c:/Users/rafael/AppData/Local/Programs/Python/Python310/python.exe -m pip install ipykernel -U --user --force-reinstall\""
     ]
    }
   ],
   "source": [
    "dados.shape"
   ]
  },
  {
   "cell_type": "code",
   "execution_count": null,
   "metadata": {},
   "outputs": [
    {
     "ename": "",
     "evalue": "",
     "output_type": "error",
     "traceback": [
      "\u001b[1;31mA execução de células com \"Python 3.10.1 64-bit\" requer o pacote ipykernel.\n",
      "\u001b[1;31mExecute o seguinte comando para instalar \"ipykernel\" no ambiente do Python. \n",
      "\u001b[1;31mComando: \"c:/Users/rafael/AppData/Local/Programs/Python/Python310/python.exe -m pip install ipykernel -U --user --force-reinstall\""
     ]
    }
   ],
   "source": [
    "dados.shape[0]"
   ]
  },
  {
   "cell_type": "code",
   "execution_count": null,
   "metadata": {},
   "outputs": [
    {
     "ename": "",
     "evalue": "",
     "output_type": "error",
     "traceback": [
      "\u001b[1;31mA execução de células com \"Python 3.10.1 64-bit\" requer o pacote ipykernel.\n",
      "\u001b[1;31mExecute o seguinte comando para instalar \"ipykernel\" no ambiente do Python. \n",
      "\u001b[1;31mComando: \"c:/Users/rafael/AppData/Local/Programs/Python/Python310/python.exe -m pip install ipykernel -U --user --force-reinstall\""
     ]
    }
   ],
   "source": [
    "dados.shape[1]"
   ]
  },
  {
   "cell_type": "code",
   "execution_count": null,
   "metadata": {},
   "outputs": [
    {
     "ename": "",
     "evalue": "",
     "output_type": "error",
     "traceback": [
      "\u001b[1;31mA execução de células com \"Python 3.10.1 64-bit\" requer o pacote ipykernel.\n",
      "\u001b[1;31mExecute o seguinte comando para instalar \"ipykernel\" no ambiente do Python. \n",
      "\u001b[1;31mComando: \"c:/Users/rafael/AppData/Local/Programs/Python/Python310/python.exe -m pip install ipykernel -U --user --force-reinstall\""
     ]
    }
   ],
   "source": [
    "print('A base de dados apresenta {} registros (imóveis) e {} variáveis'.format(dados.shape[0], dados.shape[1]))"
   ]
  },
  {
   "cell_type": "code",
   "execution_count": null,
   "metadata": {},
   "outputs": [
    {
     "ename": "",
     "evalue": "",
     "output_type": "error",
     "traceback": [
      "\u001b[1;31mA execução de células com \"Python 3.10.1 64-bit\" requer o pacote ipykernel.\n",
      "\u001b[1;31mExecute o seguinte comando para instalar \"ipykernel\" no ambiente do Python. \n",
      "\u001b[1;31mComando: \"c:/Users/rafael/AppData/Local/Programs/Python/Python310/python.exe -m pip install ipykernel -U --user --force-reinstall\""
     ]
    }
   ],
   "source": []
  }
 ],
 "metadata": {
  "kernelspec": {
   "display_name": "Python 3.10.1 64-bit",
   "language": "python",
   "name": "python3"
  },
  "language_info": {
   "codemirror_mode": {
    "name": "ipython",
    "version": 3
   },
   "file_extension": ".py",
   "mimetype": "text/x-python",
   "name": "python",
   "nbconvert_exporter": "python",
   "pygments_lexer": "ipython3",
   "version": "3.10.1"
  },
  "vscode": {
   "interpreter": {
    "hash": "c70c3fa1e2259d81172b655c3b3848a966311a819fd31aac8a515999d6b6700a"
   }
  }
 },
 "nbformat": 4,
 "nbformat_minor": 2
}
